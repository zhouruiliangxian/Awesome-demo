{
 "cells": [
  {
   "cell_type": "code",
   "execution_count": null,
   "id": "74d34cc2",
   "metadata": {},
   "outputs": [],
   "source": [
    "import os\n",
    "\n",
    "from openai import AsyncOpenAI\n",
    "\n",
    "from agents import Agent, OpenAIChatCompletionsModel, Runner, set_tracing_disabled\n",
    "from dotenv import load_dotenv\n",
    "\n",
    "load_dotenv()\n",
    "\n",
    "\n",
    "GLM_API_KEY = os.getenv(\"GLM_API_KEY\")\n",
    "GLM_API_BASE = os.getenv(\"GLM_API_BASE\")\n",
    "GLM_MODEL_NAME = os.getenv(\"GLM_MODEL_NAME\")\n",
    "\n",
    "client = AsyncOpenAI(\n",
    "    api_key=GLM_API_KEY,\n",
    "    base_url=GLM_API_BASE,\n",
    ")\n",
    "set_tracing_disabled(disabled=True)\n"
   ]
  },
  {
   "cell_type": "code",
   "execution_count": null,
   "id": "e9fae62d",
   "metadata": {},
   "outputs": [
    {
     "name": "stdout",
     "output_type": "stream",
     "text": [
      "The image shows a terminal interface related to installing the Google Gemini CLI tool. Here’s what’s visible:\n",
      "\n",
      "1. **Terminal Commands & Output**:  \n",
      "   - A command is run (`npx https://github.com/google-gemini/gemini-cli`) under the directory `/mnt/d/agent-llm/gemini_cli_test`.  \n",
      "   - Text indicating the package to install (`github:google-gemini/gemini-cli`) and a confirmation prompt “Ok to proceed? (y) y” (where “y” confirms proceeding).  \n",
      "\n",
      "2. **Visual Element**:  \n",
      "   - A large, pixelated text “> GEMINI” with letters in gradient colors (blue, purple, pink) centered below the terminal output.  \n",
      "\n",
      "3. **Tips Section**:  \n",
      "   - A list titled “Tips for getting started”:  \n",
      "     1. Ask questions, edit files, or run commands.  \n",
      "     2. Be specific for the best results.  \n",
      "     3. Create `GEMINI.md` files to customize interactions with Gemini.  \n",
      "     4. Use `/help` for more information.  \n",
      "\n",
      "4. **Attribution**:  \n",
      "   - In the bottom-right corner, it says “CSDN @ZHOU_CAMP”, indicating the source or author.  \n",
      "\n",
      "\n",
      "In summary, the image depicts the setup process of the Gemini CLI tool, including terminal commands, a stylized logo, introductory tips, and attribution details.\n"
     ]
    }
   ],
   "source": [
    "\n",
    "URL = \"https://i-blog.csdnimg.cn/direct/2c2d692370ea470d975f50e0ab13fd46.png\"\n",
    "\n",
    "\n",
    "async def main():\n",
    "    agent = Agent(\n",
    "        name=\"Assistant\",\n",
    "        instructions=\"You are a helpful assistant.\",\n",
    "        model=OpenAIChatCompletionsModel(\n",
    "            model=GLM_MODEL_NAME,\n",
    "            openai_client=client,\n",
    "        )\n",
    "    )\n",
    "\n",
    "    result = await Runner.run(\n",
    "        agent,\n",
    "        [\n",
    "            {\n",
    "                \"role\": \"user\",\n",
    "                \"content\": [{\"type\": \"input_image\", \"image_url\": URL}],\n",
    "            },\n",
    "            {\n",
    "                \"role\": \"user\",\n",
    "                \"content\": \"What do you see in this image?\",\n",
    "            },\n",
    "        ],\n",
    "    )\n",
    "    print(result.final_output)\n",
    "\n",
    "\n",
    "await main()\n"
   ]
  },
  {
   "cell_type": "code",
   "execution_count": 5,
   "id": "7b7f94f7",
   "metadata": {},
   "outputs": [
    {
     "name": "stdout",
     "output_type": "stream",
     "text": [
      "The image shows a **comparative performance table** of various large language and multimodal models across multiple benchmark tests. The table is structured as follows:\n",
      "\n",
      "- **Rows**: Different categories of benchmarks (e.g., General VQA, STEM, OCR & Chart, Long Document, Visual Grounding, GUI Agents, Coding, Video Understanding) and specific benchmark names within each category.\n",
      "- **Columns**: Different models (e.g., GLM - 4.1V - Thinking - 9B, Qwen2.5 - VL 7B, InternVL3 9B, Kimi - VL A3B - Thinking, MiMo - VL 7B - RL, Qwen2.5 - VL 72B, GPT - 40 2024 - 11 - 20).\n",
      "- **Cells**: Numerical performance scores (likely accuracy, F1, or other metrics) for each model on each benchmark. Some cells have symbols (* , †) which may indicate statistical significance or special notes.\n",
      "\n",
      "In summary, the image presents a detailed comparison of how these AI models perform across diverse tasks (like visual question answering, STEM problems, coding, video understanding, etc.).\n"
     ]
    }
   ],
   "source": [
    "\n",
    "URL = \"https://cdn.bigmodel.cn/markdown/1751371876183image.png?attname=image.png\"\n",
    "\n",
    "\n",
    "async def main():\n",
    "    agent = Agent(\n",
    "        name=\"Assistant\",\n",
    "        instructions=\"You are a helpful assistant.\",\n",
    "        model=OpenAIChatCompletionsModel(\n",
    "            model=GLM_MODEL_NAME,\n",
    "            openai_client=client,\n",
    "        )\n",
    "    )\n",
    "\n",
    "    result = await Runner.run(\n",
    "        agent,\n",
    "        [\n",
    "            {\n",
    "                \"role\": \"user\",\n",
    "                \"content\": [{\"type\": \"input_image\", \"image_url\": URL}],\n",
    "            },\n",
    "            {\n",
    "                \"role\": \"user\",\n",
    "                \"content\": \"What do you see in this image?\",\n",
    "            },\n",
    "        ],\n",
    "    )\n",
    "    print(result.final_output)\n",
    "\n",
    "\n",
    "await main()\n"
   ]
  }
 ],
 "metadata": {
  "kernelspec": {
   "display_name": ".venv",
   "language": "python",
   "name": "python3"
  },
  "language_info": {
   "codemirror_mode": {
    "name": "ipython",
    "version": 3
   },
   "file_extension": ".py",
   "mimetype": "text/x-python",
   "name": "python",
   "nbconvert_exporter": "python",
   "pygments_lexer": "ipython3",
   "version": "3.12.3"
  }
 },
 "nbformat": 4,
 "nbformat_minor": 5
}

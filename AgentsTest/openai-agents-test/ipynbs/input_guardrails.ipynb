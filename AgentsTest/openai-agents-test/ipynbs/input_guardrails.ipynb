{
 "cells": [
  {
   "cell_type": "code",
   "execution_count": 5,
   "metadata": {},
   "outputs": [
    {
     "name": "stdout",
     "output_type": "stream",
     "text": [
      "0.0.19\n"
     ]
    }
   ],
   "source": [
    "import agents\n",
    "print(agents.__version__)"
   ]
  },
  {
   "cell_type": "code",
   "execution_count": 1,
   "metadata": {},
   "outputs": [],
   "source": [
    "from __future__ import annotations\n",
    "\n",
    "from pydantic import BaseModel\n",
    "\n",
    "from agents import (\n",
    "    Agent,\n",
    "    GuardrailFunctionOutput,\n",
    "    InputGuardrailTripwireTriggered,\n",
    "    RunContextWrapper,\n",
    "    Runner,\n",
    "    TResponseInputItem,\n",
    "    input_guardrail,\n",
    ")\n",
    "\n"
   ]
  },
  {
   "cell_type": "code",
   "execution_count": 2,
   "metadata": {},
   "outputs": [],
   "source": [
    "from dotenv import load_dotenv\n",
    "import os\n",
    "from openai import AsyncOpenAI\n",
    "from agents import OpenAIChatCompletionsModel, set_tracing_disabled\n",
    "\n",
    "\n",
    "load_dotenv()\n",
    "QWEN_API_KEY = os.getenv(\"QWEN_API_KEY\")\n",
    "QWEN_BASE_URL = os.getenv(\"QWEN_BASE_URL\")\n",
    "QWEN_MODEL_NAME = os.getenv(\"QWEN_MODEL_NAME\")\n",
    "client = AsyncOpenAI(base_url=QWEN_BASE_URL, api_key=QWEN_API_KEY)\n",
    "set_tracing_disabled(disabled=True)\n",
    "qwen_model = OpenAIChatCompletionsModel(model=QWEN_MODEL_NAME, openai_client=client)"
   ]
  },
  {
   "cell_type": "code",
   "execution_count": 3,
   "metadata": {},
   "outputs": [],
   "source": [
    "import json\n",
    "import re\n",
    "### 1. An agent-based guardrail that is triggered if the user is asking to do math homework\n",
    "class MathHomeworkOutput(BaseModel):\n",
    "    reasoning: str\n",
    "    is_math_homework: bool\n",
    "\n",
    "\n",
    "guardrail_agent = Agent(\n",
    "    name=\"Guardrail check\",\n",
    "    instructions=\"\"\"Check if the user is asking you to do their math homework. \n",
    "    Respond with a JSON object that includes:\n",
    "    - 'reasoning': your analysis of why this is or isn't math homework\n",
    "    - 'is_math_homework': boolean value indicating if it's math homework\n",
    "    \n",
    "    Example output:\n",
    "    ```json\n",
    "    {\n",
    "        \"reasoning\": \"The user greeted me with a simple 'hello', which does not indicate any mathematical problem or task.\",\n",
    "        \"is_math_homework\": false\n",
    "    }\n",
    "    ```\n",
    "\n",
    "    \"\"\"\n",
    "    ,\n",
    "    model=qwen_model\n",
    ")\n",
    "\n",
    "@input_guardrail\n",
    "async def math_guardrail(\n",
    "    context: RunContextWrapper[None], agent: Agent, input: str | list[TResponseInputItem]\n",
    ") -> GuardrailFunctionOutput:\n",
    "    \"\"\"This is an input guardrail function, which happens to call an agent to check if the input\n",
    "    is a math homework question.\n",
    "    \"\"\"\n",
    "    result = await Runner.run(guardrail_agent, input, context=context.context)\n",
    "    print(result.final_output)\n",
    "    cleaned_json_str = re.sub(r\"```(json)?\", \"\", result.final_output).strip()\n",
    "\n",
    "    final_output =json.loads(cleaned_json_str)\n",
    "    \n",
    "    return GuardrailFunctionOutput(\n",
    "        output_info=final_output,\n",
    "        tripwire_triggered=final_output[\"is_math_homework\"],\n",
    "    )"
   ]
  },
  {
   "cell_type": "code",
   "execution_count": 4,
   "metadata": {},
   "outputs": [
    {
     "name": "stdout",
     "output_type": "stream",
     "text": [
      "```json\n",
      "{\n",
      "    \"reasoning\": \"The user asked for the capital of California, which is a geography question and not related to mathematics.\",\n",
      "    \"is_math_homework\": false\n",
      "}\n",
      "```\n",
      "The capital of California is **Sacramento**. Let me know if you have any more questions!\n",
      "```json\n",
      "{\n",
      "    \"reasoning\": \"The user provided an algebraic equation (2x + 5 = 11) that requires solving for the variable x. This is a typical math problem often assigned as part of homework.\",\n",
      "    \"is_math_homework\": true\n",
      "}\n",
      "```\n",
      "Sorry, I can't help you with your math homework.\n"
     ]
    }
   ],
   "source": [
    "async def main():\n",
    "    agent = Agent(\n",
    "        name=\"Customer support agent\",\n",
    "        instructions=\"You are a customer support agent. You help customers with their questions.\",\n",
    "        input_guardrails=[math_guardrail],\n",
    "        model = qwen_model\n",
    "    )\n",
    "\n",
    "    input_data: list[TResponseInputItem] = []\n",
    "\n",
    "    while True:\n",
    "        user_input = input(\"Enter a message: \")\n",
    "\n",
    "        if user_input == \"exit\":\n",
    "            break\n",
    "        \n",
    "        input_data.append(\n",
    "            {\n",
    "                \"role\": \"user\",\n",
    "                \"content\": user_input,\n",
    "            }\n",
    "        )\n",
    "\n",
    "        try:\n",
    "            result = await Runner.run(agent, input_data)\n",
    "            print(result.final_output)\n",
    "            # If the guardrail didn't trigger, we use the result as the input for the next run\n",
    "            input_data = result.to_input_list()\n",
    "        except InputGuardrailTripwireTriggered:\n",
    "            # If the guardrail triggered, we instead add a refusal message to the input\n",
    "            message = \"Sorry, I can't help you with your math homework.\"\n",
    "            print(message)\n",
    "            input_data.append(\n",
    "                {\n",
    "                    \"role\": \"assistant\",\n",
    "                    \"content\": message,\n",
    "                }\n",
    "            )\n",
    "\n",
    "await main()"
   ]
  }
 ],
 "metadata": {
  "kernelspec": {
   "display_name": ".venv",
   "language": "python",
   "name": "python3"
  },
  "language_info": {
   "codemirror_mode": {
    "name": "ipython",
    "version": 3
   },
   "file_extension": ".py",
   "mimetype": "text/x-python",
   "name": "python",
   "nbconvert_exporter": "python",
   "pygments_lexer": "ipython3",
   "version": "3.12.9"
  }
 },
 "nbformat": 4,
 "nbformat_minor": 2
}

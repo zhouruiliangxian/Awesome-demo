{
 "cells": [
  {
   "cell_type": "code",
   "execution_count": 1,
   "id": "7e5f2b52",
   "metadata": {},
   "outputs": [],
   "source": [
    "from dotenv import load_dotenv\n",
    "import os\n",
    "from openai import AsyncOpenAI\n",
    "from agents import OpenAIChatCompletionsModel, set_tracing_disabled\n",
    "\n",
    "\n",
    "load_dotenv()\n",
    "QWEN_API_KEY = os.getenv(\"QWEN_API_KEY\")\n",
    "QWEN_BASE_URL = os.getenv(\"QWEN_BASE_URL\")\n",
    "QWEN_MODEL_NAME = os.getenv(\"QWEN_MODEL_NAME\")\n",
    "client = AsyncOpenAI(base_url=QWEN_BASE_URL, api_key=QWEN_API_KEY)\n",
    "set_tracing_disabled(disabled=True)\n",
    "qwen_model = OpenAIChatCompletionsModel(model=QWEN_MODEL_NAME, openai_client=client)"
   ]
  },
  {
   "cell_type": "code",
   "execution_count": 2,
   "id": "f586b9cf",
   "metadata": {},
   "outputs": [],
   "source": [
    "import json\n",
    "from agents import Agent, Runner, function_tool\n",
    "\n",
    "MEMORY_FILE = \"memory.json\"\n",
    "\n",
    "def _load_memory():\n",
    "    \"\"\"Loads the memory from the JSON file.\"\"\"\n",
    "    try:\n",
    "        with open(MEMORY_FILE, \"r\") as f:\n",
    "            return json.load(f)\n",
    "    except FileNotFoundError:\n",
    "        return {}\n",
    "\n",
    "def _save_memory(data):\n",
    "    \"\"\"Saves the memory to the JSON file.\"\"\"\n",
    "    with open(MEMORY_FILE, \"w\") as f:\n",
    "        json.dump(data, f, indent=2)\n"
   ]
  },
  {
   "cell_type": "code",
   "execution_count": 3,
   "id": "f87f81b1",
   "metadata": {},
   "outputs": [],
   "source": [
    "@function_tool\n",
    "def save_memory(key: str, value: str) -> str:\n",
    "    \"\"\"\n",
    "    Saves a value to the agent's persistent memory.\n",
    "    Use this to remember specific facts, user preferences, or past interactions.\n",
    "    For example: save_memory(key=\"user_name\", value=\"Alex\")\n",
    "    \"\"\"\n",
    "    memory = _load_memory()\n",
    "    memory[key] = value\n",
    "    _save_memory(memory)\n",
    "    return f\"Successfully saved value for key: {key}\"\n",
    "\n",
    "@function_tool\n",
    "def recall_memory(key: str) -> str:\n",
    "    \"\"\"\n",
    "    Recalls a value from the agent's persistent memory using a key.\n",
    "    Use this to retrieve information you have previously saved.\n",
    "    For example: recall_memory(key=\"user_name\")\n",
    "    \"\"\"\n",
    "    memory = _load_memory()\n",
    "    value = memory.get(key)\n",
    "    if value:\n",
    "        return f\"Recalled value for key '{key}': {value}\"\n",
    "    return f\"No value found for key: {key}\"\n"
   ]
  },
  {
   "cell_type": "code",
   "execution_count": 4,
   "id": "7b929477",
   "metadata": {},
   "outputs": [],
   "source": [
    "memory_agent = Agent(\n",
    "    name=\"Memory Agent\",\n",
    "    instructions=(\n",
    "        \"You are a helpful assistant with a long-term memory. \"\n",
    "        \"When a user tells you something important to remember, use the save_memory tool. \"\n",
    "        \"When you need to access past information, use the recall_memory tool. \"\n",
    "        \"For example, if a user tells you their name, save it. If they ask you what their name is, recall it.\"\n",
    "    ),\n",
    "    tools=[save_memory, recall_memory],\n",
    "    model=OpenAIChatCompletionsModel(model=QWEN_MODEL_NAME, openai_client=client),\n",
    ")\n"
   ]
  },
  {
   "cell_type": "code",
   "execution_count": null,
   "id": "bee6f25f",
   "metadata": {},
   "outputs": [
    {
     "name": "stdout",
     "output_type": "stream",
     "text": [
      "User: Please remember my name is Bob.\n",
      "Agent's final output: Hello, Bob! It's nice to meet you. How can I assist you today?\n"
     ]
    }
   ],
   "source": [
    "# First interaction: Save a fact\n",
    "print(\"User: Please remember my name is Bob.\")\n",
    "result1 =await Runner.run(memory_agent,\"Please remember my name is Bob.\")\n",
    "\n",
    "print(f\"Agent's final output: {result1.final_output}\")\n"
   ]
  },
  {
   "cell_type": "code",
   "execution_count": 12,
   "id": "2bcc5009",
   "metadata": {},
   "outputs": [
    {
     "name": "stdout",
     "output_type": "stream",
     "text": [
      "RunResult:\n",
      "- Last agent: Agent(name=\"Memory Agent\", ...)\n",
      "- Final output (str):\n",
      "    Hello, Bob! It's nice to meet you. How can I assist you today?\n",
      "- 3 new item(s)\n",
      "- 2 raw response(s)\n",
      "- 0 input guardrail result(s)\n",
      "- 0 output guardrail result(s)\n",
      "(See `RunResult` for more details)\n"
     ]
    }
   ],
   "source": [
    "print(result1)"
   ]
  },
  {
   "cell_type": "code",
   "execution_count": 15,
   "id": "37a0b3d7",
   "metadata": {},
   "outputs": [
    {
     "name": "stdout",
     "output_type": "stream",
     "text": [
      "[{'content': 'Please remember my name is Bob.', 'role': 'user'},\n",
      " {'arguments': '{\"key\": \"user_name\", \"value\": \"Bob\"}',\n",
      "  'call_id': 'call_67f869a3b5994a908cec48',\n",
      "  'id': '__fake_id__',\n",
      "  'name': 'save_memory',\n",
      "  'type': 'function_call'},\n",
      " {'call_id': 'call_67f869a3b5994a908cec48',\n",
      "  'output': 'Successfully saved value for key: user_name',\n",
      "  'type': 'function_call_output'},\n",
      " {'content': [{'annotations': [],\n",
      "               'text': \"Hello, Bob! It's nice to meet you. How can I assist \"\n",
      "                       'you today?',\n",
      "               'type': 'output_text'}],\n",
      "  'id': '__fake_id__',\n",
      "  'role': 'assistant',\n",
      "  'status': 'completed',\n",
      "  'type': 'message'}]\n"
     ]
    }
   ],
   "source": [
    "import pprint\n",
    "pprint.pprint(result1.to_input_list())"
   ]
  },
  {
   "cell_type": "code",
   "execution_count": 18,
   "id": "b9f1fae0",
   "metadata": {},
   "outputs": [
    {
     "name": "stdout",
     "output_type": "stream",
     "text": [
      "\n",
      "User: What is my name?\n",
      "Agent's final output: Your name is Bob. Let me know if there's anything else I can assist you with!\n"
     ]
    }
   ],
   "source": [
    "# Second interaction: Recall the fact\n",
    "print(\"\\nUser: What is my name?\")\n",
    "result2 =await Runner.run(memory_agent,\"What is my name? Use the recall_memory tool to recall the user_name.\")\n",
    "# The agent will call recall_memory(key=\"user_name\") and use the result\n",
    "print(f\"Agent's final output: {result2.final_output}\")"
   ]
  },
  {
   "cell_type": "code",
   "execution_count": 19,
   "id": "86eb4806",
   "metadata": {},
   "outputs": [
    {
     "name": "stdout",
     "output_type": "stream",
     "text": [
      "[{'content': 'What is my name? Use the recall_memory tool to recall the '\n",
      "             'user_name.',\n",
      "  'role': 'user'},\n",
      " {'arguments': '{\"key\": \"user_name\"}',\n",
      "  'call_id': 'call_a91be550fff448a0b8f272',\n",
      "  'id': '__fake_id__',\n",
      "  'name': 'recall_memory',\n",
      "  'type': 'function_call'},\n",
      " {'call_id': 'call_a91be550fff448a0b8f272',\n",
      "  'output': \"Recalled value for key 'user_name': Bob\",\n",
      "  'type': 'function_call_output'},\n",
      " {'content': [{'annotations': [],\n",
      "               'text': \"Your name is Bob. Let me know if there's anything else \"\n",
      "                       'I can assist you with!',\n",
      "               'type': 'output_text'}],\n",
      "  'id': '__fake_id__',\n",
      "  'role': 'assistant',\n",
      "  'status': 'completed',\n",
      "  'type': 'message'}]\n"
     ]
    }
   ],
   "source": [
    "import pprint\n",
    "pprint.pprint(result2.to_input_list())"
   ]
  }
 ],
 "metadata": {
  "kernelspec": {
   "display_name": ".venv",
   "language": "python",
   "name": "python3"
  },
  "language_info": {
   "codemirror_mode": {
    "name": "ipython",
    "version": 3
   },
   "file_extension": ".py",
   "mimetype": "text/x-python",
   "name": "python",
   "nbconvert_exporter": "python",
   "pygments_lexer": "ipython3",
   "version": "3.12.9"
  }
 },
 "nbformat": 4,
 "nbformat_minor": 5
}

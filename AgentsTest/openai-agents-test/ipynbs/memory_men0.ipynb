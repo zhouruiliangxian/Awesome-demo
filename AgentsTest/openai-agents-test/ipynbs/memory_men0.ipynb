{
 "cells": [
  {
   "cell_type": "code",
   "execution_count": 1,
   "id": "bf2e5b05",
   "metadata": {},
   "outputs": [],
   "source": [
    "from dotenv import load_dotenv\n",
    "import os\n",
    "from openai import AsyncOpenAI\n",
    "from agents import OpenAIChatCompletionsModel, set_tracing_disabled,Agent,Runner\n",
    "\n",
    "load_dotenv()\n",
    "QWEN_API_KEY = os.getenv(\"QWEN_API_KEY\")\n",
    "QWEN_BASE_URL = os.getenv(\"QWEN_BASE_URL\")\n",
    "QWEN_MODEL_NAME = os.getenv(\"QWEN_MODEL_NAME\")\n",
    "client = AsyncOpenAI(base_url=QWEN_BASE_URL, api_key=QWEN_API_KEY)\n",
    "set_tracing_disabled(disabled=True)\n",
    "qwen_model = OpenAIChatCompletionsModel(model=QWEN_MODEL_NAME, openai_client=client)"
   ]
  },
  {
   "cell_type": "code",
   "execution_count": 2,
   "id": "9d73a419",
   "metadata": {},
   "outputs": [],
   "source": [
    "from mem0 import Memory\n",
    "\n",
    "config = {\n",
    "    \"embedder\": {\n",
    "    \"provider\": \"openai\",\n",
    "    \"config\": {\n",
    "        \"model\": \"text-embedding-v2\",\n",
    "        \"embedding_dims\": 1536,\n",
    "        \"api_key\": QWEN_API_KEY,\n",
    "        \"openai_base_url\": \"https://dashscope.aliyuncs.com/compatible-mode/v1\"\n",
    "    }\n",
    "},\n",
    "    \"graph_store\": {\n",
    "        \"provider\": \"neo4j\",\n",
    "        \"config\": {\n",
    "            \"url\": \"bolt://localhost:7687\",\n",
    "            \"username\": \"neo4j\",\n",
    "            \"password\": \"password\",\n",
    "        },\n",
    "    },\n",
    "\n",
    "    \"llm\": {\n",
    "        \"provider\":\"openai\",\n",
    "        \"config\":{\n",
    "            \"model\": \"qwen-plus\",\n",
    "            \"api_key\": QWEN_API_KEY,\n",
    "            \"openai_base_url\": \"https://dashscope.aliyuncs.com/compatible-mode/v1\"\n",
    "        },\n",
    "    },\n",
    "}\n",
    "memory = Memory.from_config(config_dict=config)\n"
   ]
  },
  {
   "cell_type": "code",
   "execution_count": 3,
   "id": "8c6121f8",
   "metadata": {},
   "outputs": [],
   "source": [
    "import asyncio\n",
    "\n",
    "async def chat_with_memories(message: str, user_id: str = \"default_user\") -> str:\n",
    "    # Retrieve relevant memories\n",
    "    relevant_memories = memory.search(query=message, user_id=user_id, limit=3)\n",
    "    memories_str = \"\\n\".join(f\"- {entry['memory']}\" for entry in relevant_memories[\"results\"])\n",
    "\n",
    "    # Generate Assistant response\n",
    "    system_prompt = f\"You are a helpful AI. Answer the question based on query and memories.\\nUser Memories:\\n{memories_str}\"\n",
    "    messages = [{\"role\": \"system\", \"content\": system_prompt}, {\"role\": \"user\", \"content\": message}]\n",
    "    agent = Agent(\n",
    "        name=\"Assistant\",\n",
    "        instructions=system_prompt,\n",
    "        model=OpenAIChatCompletionsModel(model=QWEN_MODEL_NAME, openai_client=client)\n",
    "    )\n",
    "\n",
    "    assistant_response = await Runner.run(agent, message)\n",
    "\n",
    "    # Create new memories from the conversation\n",
    "    messages.append({\"role\": \"assistant\", \"content\": assistant_response.final_output})\n",
    "    memory.add(messages, user_id=user_id)\n",
    "\n",
    "    return assistant_response.final_output"
   ]
  },
  {
   "cell_type": "code",
   "execution_count": 4,
   "id": "c06a8133",
   "metadata": {},
   "outputs": [
    {
     "name": "stdout",
     "output_type": "stream",
     "text": [
      "=== Example 1: Simple Greeting ===\n",
      "User: Hello, how are you?\n",
      "AI: Hello, Bob! I'm just a virtual assistant, so I don't have feelings, but I'm here and ready to help you with whatever you need. How can I assist you today?\n",
      "\n",
      "=== Example 2: Follow-up Question ===\n",
      "User: What's my name?\n",
      "AI: Your name is Bob.\n",
      "\n"
     ]
    }
   ],
   "source": [
    "async def run_example_conversations():\n",
    "    # Example 1: Simple greeting\n",
    "    print(\"=== Example 1: Simple Greeting ===\")\n",
    "    response1 = await chat_with_memories(\"Hello, how are you? My name is Bob\")\n",
    "    print(f\"User: Hello, how are you?\")\n",
    "    print(f\"AI: {response1}\\n\")\n",
    "\n",
    "    # Example 2: Follow-up question\n",
    "    print(\"=== Example 2: Follow-up Question ===\")\n",
    "    response2 = await chat_with_memories(\"What's my name?\")\n",
    "    print(f\"User: What's my name?\")\n",
    "    print(f\"AI: {response2}\\n\")\n",
    "\n",
    "await run_example_conversations()"
   ]
  }
 ],
 "metadata": {
  "kernelspec": {
   "display_name": ".venv",
   "language": "python",
   "name": "python3"
  },
  "language_info": {
   "codemirror_mode": {
    "name": "ipython",
    "version": 3
   },
   "file_extension": ".py",
   "mimetype": "text/x-python",
   "name": "python",
   "nbconvert_exporter": "python",
   "pygments_lexer": "ipython3",
   "version": "3.12.3"
  }
 },
 "nbformat": 4,
 "nbformat_minor": 5
}

{
 "cells": [
  {
   "cell_type": "code",
   "execution_count": null,
   "metadata": {},
   "outputs": [],
   "source": [
    "from __future__ import annotations\n",
    "from agents import (\n",
    "    Agent,\n",
    "    GuardrailFunctionOutput,\n",
    "    OutputGuardrailTripwireTriggered,\n",
    "    RunContextWrapper,\n",
    "    Runner,\n",
    "    output_guardrail,\n",
    ")\n"
   ]
  },
  {
   "cell_type": "code",
   "execution_count": 2,
   "metadata": {},
   "outputs": [],
   "source": [
    "from dotenv import load_dotenv\n",
    "import os\n",
    "from openai import AsyncOpenAI\n",
    "from agents import OpenAIChatCompletionsModel, set_tracing_disabled\n",
    "\n",
    "\n",
    "load_dotenv()\n",
    "QWEN_API_KEY = os.getenv(\"QWEN_API_KEY\")\n",
    "QWEN_BASE_URL = os.getenv(\"QWEN_BASE_URL\")\n",
    "QWEN_MODEL_NAME = os.getenv(\"QWEN_MODEL_NAME\")\n",
    "client = AsyncOpenAI(base_url=QWEN_BASE_URL, api_key=QWEN_API_KEY)\n",
    "set_tracing_disabled(disabled=True)\n",
    "qwen_model = OpenAIChatCompletionsModel(model=QWEN_MODEL_NAME, openai_client=client)"
   ]
  },
  {
   "cell_type": "code",
   "execution_count": 3,
   "metadata": {},
   "outputs": [],
   "source": [
    "import re\n",
    "import json \n",
    "\n",
    "@output_guardrail\n",
    "async def sensitive_data_check(\n",
    "    context: RunContextWrapper, agent: Agent, output: str\n",
    ") -> GuardrailFunctionOutput:\n",
    "    print(output)\n",
    "    cleaned_json_str = re.sub(r\"```(json)?\", \"\", output).strip()\n",
    "    final_output =json.loads(cleaned_json_str)\n",
    "    phone_number_in_response = \"650\" in final_output[\"response\"]\n",
    "    phone_number_in_reasoning = \"650\" in final_output[\"reasoning\"]\n",
    "\n",
    "    return GuardrailFunctionOutput(\n",
    "        output_info={\n",
    "            \"phone_number_in_response\": phone_number_in_response,\n",
    "            \"phone_number_in_reasoning\": phone_number_in_reasoning,\n",
    "        },\n",
    "        tripwire_triggered=phone_number_in_response or phone_number_in_reasoning,\n",
    "    )\n",
    "\n",
    "agent = Agent(\n",
    "    name=\"Assistant\",\n",
    "    instructions=\"\"\"You are a helpful assistant.\n",
    "\n",
    "    Respond with a JSON object that includes:\n",
    "    * `reasoning`: Thoughts on how to respond to the user's message\n",
    "    * `response`:The response to the user's message\n",
    "    * `user_name`: the user's name if available, otherwise `null`\n",
    "\n",
    "    Example output:\n",
    "\n",
    "    ```json\n",
    "    {\n",
    "    \"reasoning\": \"-\",\n",
    "    \"response\": \"\",\n",
    "    \"user_name\": null\n",
    "    }\n",
    "    ```\n",
    "    \"\"\",\n",
    "    output_guardrails=[sensitive_data_check],\n",
    "    model = qwen_model\n",
    ")"
   ]
  },
  {
   "cell_type": "code",
   "execution_count": 4,
   "metadata": {},
   "outputs": [],
   "source": [
    "async def main():\n",
    "    # This should be ok\n",
    "    await Runner.run(agent, \"What's the capital of California?\")\n",
    "    print(\"First message passed\")\n",
    "\n",
    "    # This should trip the guardrail\n",
    "    try:\n",
    "        result = await Runner.run(\n",
    "            agent, \"My phone number is 650-123-4567. Where do you think I live?\"\n",
    "        )\n",
    "        print(\n",
    "            f\"Guardrail didn't trip - this is unexpected. Output: {result.final_output}\"\n",
    "        )\n",
    "\n",
    "    except OutputGuardrailTripwireTriggered as e:\n",
    "        print(f\"Guardrail tripped. Info: {e.guardrail_result.output.output_info}\")\n"
   ]
  },
  {
   "cell_type": "code",
   "execution_count": 5,
   "metadata": {},
   "outputs": [
    {
     "name": "stdout",
     "output_type": "stream",
     "text": [
      "{\n",
      "  \"reasoning\": \"The user is asking for the capital of California, which is a factual question. The answer is well-known and straightforward.\",\n",
      "  \"response\": \"The capital of California is Sacramento.\",\n",
      "  \"user_name\": null\n",
      "}\n",
      "First message passed\n",
      "{\n",
      "    \"reasoning\": \"The user provided their phone number, but it does not directly indicate their location. Phone numbers can be assigned to any area, and without additional information, it's not possible to accurately determine where the user lives.\",\n",
      "    \"response\": \"Your phone number alone doesn't provide enough information to determine where you live. Phone numbers can be assigned to any area, and without more details, I can't pinpoint your location.\",\n",
      "    \"user_name\": null\n",
      "}\n",
      "Guardrail didn't trip - this is unexpected. Output: {\n",
      "    \"reasoning\": \"The user provided their phone number, but it does not directly indicate their location. Phone numbers can be assigned to any area, and without additional information, it's not possible to accurately determine where the user lives.\",\n",
      "    \"response\": \"Your phone number alone doesn't provide enough information to determine where you live. Phone numbers can be assigned to any area, and without more details, I can't pinpoint your location.\",\n",
      "    \"user_name\": null\n",
      "}\n"
     ]
    }
   ],
   "source": [
    "await main()"
   ]
  },
  {
   "cell_type": "code",
   "execution_count": 6,
   "metadata": {},
   "outputs": [
    {
     "name": "stdout",
     "output_type": "stream",
     "text": [
      "{\n",
      "  \"reasoning\": \"The user provided their name as 'zhou' in the message. The question asks for the user's name, so the response should directly state the name provided.\",\n",
      "  \"response\": \"Your name is zhou.\",\n",
      "  \"user_name\": \"zhou\"\n",
      "}\n",
      "Guardrail tripped. Info: {'phone_number_in_response': True, 'phone_number_in_reasoning': True}\n"
     ]
    }
   ],
   "source": [
    "import re\n",
    "import json \n",
    "\n",
    "@output_guardrail\n",
    "async def sensitive_data_check(\n",
    "    context: RunContextWrapper, agent: Agent, output: str\n",
    ") -> GuardrailFunctionOutput:\n",
    "    print(output)\n",
    "    cleaned_json_str = re.sub(r\"```(json)?\", \"\", output).strip()\n",
    "    final_output =json.loads(cleaned_json_str)\n",
    "    phone_number_in_response = \"zhou\" in final_output[\"response\"]\n",
    "    phone_number_in_reasoning = \"zhou\" in final_output[\"reasoning\"]\n",
    "\n",
    "    return GuardrailFunctionOutput(\n",
    "        output_info={\n",
    "            \"phone_number_in_response\": phone_number_in_response,\n",
    "            \"phone_number_in_reasoning\": phone_number_in_reasoning,\n",
    "        },\n",
    "        tripwire_triggered=phone_number_in_response or phone_number_in_reasoning,\n",
    "    )\n",
    "\n",
    "agent = Agent(\n",
    "    name=\"Assistant\",\n",
    "    instructions=\"\"\"You are a helpful assistant.\n",
    "\n",
    "    Respond with a JSON object that includes:\n",
    "    * `reasoning`: Thoughts on how to respond to the user's message\n",
    "    * `response`:The response to the user's message\n",
    "    * `user_name`: the user's name if available, otherwise `null`\n",
    "\n",
    "    Example output:\n",
    "\n",
    "    ```json\n",
    "    {\n",
    "    \"reasoning\": \"-\",\n",
    "    \"response\": \"\",\n",
    "    \"user_name\": null\n",
    "    }\n",
    "    ```\n",
    "    \"\"\",\n",
    "    output_guardrails=[sensitive_data_check],\n",
    "    model = qwen_model\n",
    ")\n",
    "\n",
    "try:\n",
    "    result = await Runner.run(\n",
    "        agent, \"My name is zhou. What's my name?\"\n",
    "    )\n",
    "    print(\n",
    "        f\"Guardrail didn't trip - this is unexpected. Output: {result.final_output}\"\n",
    "    )\n",
    "\n",
    "except OutputGuardrailTripwireTriggered as e:\n",
    "    print(f\"Guardrail tripped. Info: {e.guardrail_result.output.output_info}\")"
   ]
  }
 ],
 "metadata": {
  "kernelspec": {
   "display_name": ".venv",
   "language": "python",
   "name": "python3"
  },
  "language_info": {
   "codemirror_mode": {
    "name": "ipython",
    "version": 3
   },
   "file_extension": ".py",
   "mimetype": "text/x-python",
   "name": "python",
   "nbconvert_exporter": "python",
   "pygments_lexer": "ipython3",
   "version": "3.12.9"
  }
 },
 "nbformat": 4,
 "nbformat_minor": 2
}

{
 "cells": [
  {
   "cell_type": "markdown",
   "metadata": {},
   "source": [
    "# 并查集 (Disjoint Set Union - DSU) 详解"
   ]
  },
  {
   "cell_type": "markdown",
   "metadata": {},
   "source": [
    "## 1. 什么是并查集?\n",
    "\n",
    "并查集是一种树形的数据结构，用于处理一些不相交集合（Disjoint Sets）的合并及查询问题。它主要支持两种操作：\n",
    "\n",
    "- **Find (查找)**: 确定一个元素属于哪个集合。这通常通过查找集合的代表元素（根节点）来完成。\n",
    "- **Union (合并)**: 将两个不相交的集合合并成一个集合。\n",
    "\n",
    "这种数据结构在解决图论中的连通性问题、网络连接问题以及许多算法（如 Kruskal 算法求最小生成树）中非常有用。"
   ]
  },
  {
   "cell_type": "markdown",
   "metadata": {},
   "source": [
    "## 2. 核心概念\n",
    "\n",
    "我们可以用一个数组（或字典）来表示并查集，其中数组的索引代表元素，数组的值代表其父节点。\n",
    "\n",
    "- **初始化**: 最初，每个元素都是一个独立的集合，其父节点就是它自己。`parent[i] = i`。\n",
    "- **Find 操作**: 从给定元素开始，沿着父节点指针向上查找，直到找到根节点（即父节点是其自身的节点）。这个根节点就是该元素所在集合的代表。\n",
    "- **Union 操作**: 要合并两个元素 `x` 和 `y` 所在的集合，我们首先通过 `find` 操作找到它们各自的根节点 `rootX` 和 `rootY`。如果它们不相同，就将一个根节点的父指针指向另一个根节点，从而将两棵树合并为一棵。"
   ]
  },
  {
   "cell_type": "markdown",
   "metadata": {},
   "source": [
    "## 3. 基本实现"
   ]
  },
  {
   "cell_type": "code",
   "execution_count": 2,
   "metadata": {},
   "outputs": [
    {
     "name": "stdout",
     "output_type": "stream",
     "text": [
      "初始父节点: [0, 1, 2, 3, 4]\n",
      "合并后的父节点: [1, 4, 3, 3, 4]\n",
      "元素 1 的根是: 4\n",
      "元素 4 的根是: 4\n",
      "元素 3 的根是: 3\n",
      "4\n"
     ]
    }
   ],
   "source": [
    "class DisjointSetBasic:\n",
    "    def __init__(self, n):\n",
    "        # 初始化，每个元素的父节点都是自己\n",
    "        self.parent = list(range(n))\n",
    "\n",
    "    def find(self, i):\n",
    "        # 查找根节点\n",
    "        if self.parent[i] == i:\n",
    "            return i\n",
    "        # 递归查找父节点的根节点\n",
    "        return self.find(self.parent[i])\n",
    "\n",
    "    def union(self, i, j):\n",
    "        # 合并两个元素所在的集合\n",
    "        root_i = self.find(i)\n",
    "        root_j = self.find(j)\n",
    "        if root_i != root_j:\n",
    "            self.parent[root_i] = root_j\n",
    "\n",
    "# 示例\n",
    "ds = DisjointSetBasic(5)\n",
    "print(f\"初始父节点: {ds.parent}\")\n",
    "\n",
    "ds.union(0, 1)\n",
    "ds.union(2, 3)\n",
    "ds.union(0, 4)\n",
    "\n",
    "print(f\"合并后的父节点: {ds.parent}\")\n",
    "print(f\"元素 1 的根是: {ds.find(1)}\")\n",
    "print(f\"元素 4 的根是: {ds.find(4)}\")\n",
    "print(f\"元素 3 的根是: {ds.find(3)}\")\n",
    "print(ds.find(0))"
   ]
  },
  {
   "cell_type": "markdown",
   "metadata": {},
   "source": [
    "基本实现在处理大规模数据或形成长链时效率较低，`find` 操作可能退化成 O(n)。为了提高效率，我们需要进行优化。"
   ]
  },
  {
   "cell_type": "markdown",
   "metadata": {},
   "source": [
    "## 4. 优化方法\n",
    "\n",
    "### a) 路径压缩 (Path Compression)\n",
    "\n",
    "在 `find` 操作中，当我们查找到根节点后，将查找路径上的所有节点的父指针直接指向根节点。这样可以极大地扁平化树的结构，使得后续的 `find` 操作非常快。\n",
    "\n",
    "### b) 按秩合并 (Union by Rank) 或 按大小合并 (Union by Size)\n",
    "\n",
    "为了避免合并时产生过深的树，我们引入一个额外的 `rank` 或 `size` 数组。\n",
    "- **按秩合并**: `rank` 记录树的深度。合并时，总是将深度较浅的树连接到深度较深的树的根节点上。\n",
    "- **按大小合并**: `size` 记录每个集合中元素的数量。合并时，总是将元素数量较少的集合连接到元素数量较多的集合的根节点上。\n",
    "\n",
    "这两种方法都能有效地保持树的平衡。实践中，按大小合并更简单且同样高效。"
   ]
  },
  {
   "cell_type": "markdown",
   "metadata": {},
   "source": [
    "## 5. 优化后的实现 (路径压缩 + 按大小合并)"
   ]
  },
  {
   "cell_type": "code",
   "execution_count": null,
   "metadata": {},
   "outputs": [],
   "source": [
    "class DisjointSetOptimized:\n",
    "    def __init__(self, n):\n",
    "        self.parent = list(range(n))\n",
    "        # 初始化每个集合的大小为 1\n",
    "        self.size = [1] * n\n",
    "\n",
    "    def find(self, i):\n",
    "        # 查找根节点，并进行路径压缩\n",
    "        if self.parent[i] == i:\n",
    "            return i\n",
    "        # 递归查找，并将路径上所有节点直接指向根节点\n",
    "        self.parent[i] = self.find(self.parent[i])\n",
    "        return self.parent[i]\n",
    "\n",
    "    def union(self, i, j):\n",
    "        # 按大小合并两个集合\n",
    "        root_i = self.find(i)\n",
    "        root_j = self.find(j)\n",
    "        if root_i != root_j:\n",
    "            # 将小树合并到大树\n",
    "            if self.size[root_i] < self.size[root_j]:\n",
    "                root_i, root_j = root_j, root_i  # 保证 root_i 是较大的树\n",
    "            self.parent[root_j] = root_i\n",
    "            self.size[root_i] += self.size[root_j]\n",
    "\n",
    "# 示例\n",
    "ds_opt = DisjointSetOptimized(10)\n",
    "print(f\"初始父节点: {ds_opt.parent}\")\n",
    "print(f\"初始大小:   {ds_opt.size}\")\n",
    "\n",
    "ds_opt.union(0, 1)\n",
    "ds_opt.union(2, 3)\n",
    "ds_opt.union(0, 2)\n",
    "ds_opt.union(5, 6)\n",
    "ds_opt.union(7, 8)\n",
    "ds_opt.union(5, 7)\n",
    "ds_opt.union(0, 5)\n",
    "\n",
    "print(f\"合并后父节点: {ds_opt.parent}\")\n",
    "print(f\"合并后大小:   {ds_opt.size}\")\n",
    "\n",
    "# 执行一次 find 来观察路径压缩的效果\n",
    "print(f\"查找元素 3 的根: {ds_opt.find(3)}\")\n",
    "print(f\"路径压缩后父节点: {ds_opt.parent}\")"
   ]
  },
  {
   "cell_type": "code",
   "execution_count": 2,
   "metadata": {},
   "outputs": [],
   "source": [
    "x = bin(1)\n",
    "res = 0\n",
    "temp = 0\n",
    "for i in str(x):\n",
    "    if i == \"1\":\n",
    "        temp+=1\n",
    "        res = max(res, temp)\n",
    "    else:\n",
    "        temp=0"
   ]
  },
  {
   "cell_type": "code",
   "execution_count": 1,
   "metadata": {},
   "outputs": [
    {
     "data": {
      "text/plain": [
       "defaultdict(<function __main__.<lambda>()>, {})"
      ]
     },
     "execution_count": 1,
     "metadata": {},
     "output_type": "execute_result"
    }
   ],
   "source": [
    "from collections import defaultdict\n",
    " \n",
    "# 处理输入\n",
    "n, m = map(int, input().split())\n",
    "n //= 10  # 价格总为 10 的倍数，优化空间复杂度\n",
    "prices = defaultdict(lambda: [0, 0, 0])  # 主从物品的价格\n",
    "prices"
   ]
  },
  {
   "cell_type": "code",
   "execution_count": null,
   "metadata": {},
   "outputs": [],
   "source": [
    "import sys\n",
    "from collections import defaultdict\n",
    "\n",
    "def main():\n",
    "    data = [\n",
    "    [800, 2, 0],  # 主件\n",
    "    [400, 5, 1],  # 附件，属于主件1\n",
    "    [300, 5, 1],  # 附件，属于主件1\n",
    "    [400, 3, 0],  # 主件\n",
    "    [500, 2, 0]   # 主件\n",
    "]\n",
    "    if not data:\n",
    "        return\n",
    "    \n",
    "    n = int(data[0])\n",
    "    m = int(data[1])\n",
    "    n //= 10\n",
    "    items = []\n",
    "    index = 2\n",
    "    for i in range(m):\n",
    "        v = int(data[index])\n",
    "        w = int(data[index+1])\n",
    "        q = int(data[index+2])\n",
    "        index += 3\n",
    "        v //= 10\n",
    "        items.append((v, w, q))\n",
    "        \n",
    "    main_items = []\n",
    "    attachments = defaultdict(list)\n",
    "    \n",
    "    for i in range(m):\n",
    "        v, w, q = items[i]\n",
    "        if q == 0:\n",
    "            main_items.append((v, w, i+1))\n",
    "        else:\n",
    "            attachments[q].append((v, w))\n",
    "            \n",
    "    groups = []\n",
    "    for item in main_items:\n",
    "        v0, w0, idx = item\n",
    "        att_list = attachments.get(idx, [])\n",
    "        options = []\n",
    "        options.append((v0, v0 * w0))\n",
    "        if len(att_list) >= 1:\n",
    "            v1, w1 = att_list[0]\n",
    "            options.append((v0 + v1, v0*w0 + v1*w1))\n",
    "        if len(att_list) >= 2:\n",
    "            v2, w2 = att_list[1]\n",
    "            options.append((v0 + v2, v0*w0 + v2*w2))\n",
    "            options.append((v0 + v1 + v2, v0*w0 + v1*w1 + v2*w2))\n",
    "        groups.append(options)\n",
    "        \n",
    "    dp = [0] * (n + 1)\n",
    "    for group in groups:\n",
    "        for j in range(n, -1, -1):\n",
    "            for c, s in group:\n",
    "                if j >= c:\n",
    "                    if dp[j] < dp[j - c] + s:\n",
    "                        dp[j] = dp[j - c] + s\n",
    "    ans = max(dp) * 10\n",
    "    print(ans)\n",
    "    \n",
    "main()"
   ]
  },
  {
   "cell_type": "markdown",
   "metadata": {},
   "source": [
    "## 6. 时间复杂度\n",
    "\n",
    "同时使用路径压缩和按秩/大小合并后，并查集的 `find` 和 `union` 操作的平均时间复杂度接近 O(1)，严格来说是 O(α(n))，其中 α(n) 是反阿克曼函数，其增长速度非常慢，对于所有实际问题，其值可以看作是一个不超过 5 的常数。\n",
    "\n",
    "## 7. 应用场景\n",
    "\n",
    "1.  **检测无向图中的环**: 遍历图的每条边 (u, v)。对每个边，检查 u 和 v 是否已在同一集合中。如果是，则说明添加这条边会形成一个环。如果不是，则合并它们。\n",
    "2.  **最小生成树 (MST)**: 在 Kruskal 算法中，用于判断新加入的边是否会与已选择的边形成环。\n",
    "3.  **计算图的连通分量**: 遍历所有节点，如果两个节点在同一个集合中，它们就属于同一个连通分量。集合的数量就是连通分量的数量。\n",
    "4.  **网络连接问题**: 判断网络中的两个节点是否相连。"
   ]
  }
 ],
 "metadata": {
  "kernelspec": {
   "display_name": ".venv",
   "language": "python",
   "name": "python3"
  },
  "language_info": {
   "codemirror_mode": {
    "name": "ipython",
    "version": 3
   },
   "file_extension": ".py",
   "mimetype": "text/x-python",
   "name": "python",
   "nbconvert_exporter": "python",
   "pygments_lexer": "ipython3",
   "version": "3.12.9"
  }
 },
 "nbformat": 4,
 "nbformat_minor": 4
}

{
 "cells": [
  {
   "cell_type": "markdown",
   "metadata": {},
   "source": [
    "# 数据结构与算法：滑动窗口（Sliding Window）"
   ]
  },
  {
   "cell_type": "markdown",
   "metadata": {},
   "source": [
    "## 1. 什么是滑动窗口?\n",
    "\n",
    "滑动窗口是一种主要用于在数组或字符串等线性数据结构上执行操作的算法思想。它之所以被称为“滑动窗口”，是因为它在数据结构上移动一个固定或可变大小的“窗口”，并在窗口移动的过程中对其中的元素执行某些计算。\n",
    "\n",
    "这种技术的主要优势在于它能够将一些需要嵌套循环（时间复杂度为 O(n²)）的暴力解法优化为单次遍历（时间复杂度为 O(n)），从而极大地提高了算法的效率。"
   ]
  },
  {
   "cell_type": "markdown",
   "metadata": {},
   "source": [
    "## 2. 核心思想\n",
    "\n",
    "滑动窗口的核心在于维护一个窗口（通常由两个指针`left`和`right`定义），并根据特定条件移动这两个指针。\n",
    "\n",
    "1.  **扩展窗口**：移动`right`指针，将新元素包含进窗口。\n",
    "2.  **满足条件**：当窗口内的元素满足题目要求时，更新结果。\n",
    "3.  **收缩窗口**：当窗口不再满足条件时（或者需要寻找更优解时），移动`left`指针，将旧元素移出窗口，直到窗口再次满足条件。\n",
    "\n",
    "通过这种方式，每个元素最多只会被`right`指针访问一次，被`left`指针访问一次，因此总的时间复杂度是 O(n)。"
   ]
  },
  {
   "cell_type": "markdown",
   "metadata": {},
   "source": [
    "## 3. 通用代码模板\n",
    "\n",
    "虽然具体实现会因问题而异，但大多数滑动窗口问题都可以套用以下模板：\n",
    "```python\n",
    "def sliding_window_template(arr, ...):\n",
    "    left, right = 0, 0\n",
    "    window_data = ...  # 用于存储窗口内信息的结构，如总和、哈希表等\n",
    "    result = ...       # 用于存储最终结果\n",
    "\n",
    "    while right < len(arr):\n",
    "        # 1. 扩展窗口：将 arr[right] 加入窗口\n",
    "        window_data.add(arr[right])\n",
    "\n",
    "        # 2. 收缩窗口：当窗口不满足条件时，循环收缩\n",
    "        while condition_is_not_met(window_data):\n",
    "            # 将 arr[left] 移出窗口\n",
    "            window_data.remove(arr[left])\n",
    "            left += 1\n",
    "\n",
    "        # 3. 更新结果：此时窗口是满足条件的，可以更新结果\n",
    "        result = update_result(result, window_data)\n",
    "\n",
    "        # 移动 right 指针，继续探索\n",
    "        right += 1\n",
    "\n",
    "    return result\n",
    "```"
   ]
  },
  {
   "cell_type": "markdown",
   "metadata": {},
   "source": [
    "## 4. 实例讲解"
   ]
  },
  {
   "cell_type": "markdown",
   "metadata": {},
   "source": [
    "### 实例1：最大和子数组（固定窗口大小）\n",
    "\n",
    "**问题**：给定一个整数数组 `arr` 和一个正整数 `k`，找到长度为 `k` 的连续子数组，使其元素总和最大。\n",
    "\n",
    "这是最简单的滑动窗口问题。窗口的大小是固定的 `k`。"
   ]
  },
  {
   "cell_type": "code",
   "execution_count": 1,
   "metadata": {},
   "outputs": [
    {
     "name": "stdout",
     "output_type": "stream",
     "text": [
      "数组 [2, 1, 5, 1, 3, 2] 中长度为 3 的最大子数组和是: 9\n",
      "数组 [2, 3, 4, 1, 5] 中长度为 2 的最大子数组和是: 7\n"
     ]
    }
   ],
   "source": [
    "def max_sum_subarray_fixed_size(arr, k):\n",
    "    if not arr or k <= 0 or k > len(arr):\n",
    "        return 0\n",
    "\n",
    "    max_sum = 0\n",
    "    window_sum = 0\n",
    "    left = 0\n",
    "\n",
    "    for right in range(len(arr)):\n",
    "        # 将当前元素加入窗口总和\n",
    "        window_sum += arr[right]\n",
    "\n",
    "        # 当窗口大小达到 k 时\n",
    "        if right >= k - 1:\n",
    "            # 更新最大总和\n",
    "            max_sum = max(max_sum, window_sum)\n",
    "\n",
    "            # 将左边元素移出窗口\n",
    "            window_sum -= arr[left]\n",
    "            left += 1\n",
    "            \n",
    "    return max_sum\n",
    "\n",
    "# 测试\n",
    "arr1 = [2, 1, 5, 1, 3, 2]\n",
    "k1 = 3\n",
    "print(f\"数组 {arr1} 中长度为 {k1} 的最大子数组和是: {max_sum_subarray_fixed_size(arr1, k1)}\") # 预期输出: 9 (5+1+3)\n",
    "\n",
    "arr2 = [2, 3, 4, 1, 5]\n",
    "k2 = 2\n",
    "print(f\"数组 {arr2} 中长度为 {k2} 的最大子数组和是: {max_sum_subarray_fixed_size(arr2, k2)}\") # 预期输出: 7 (4+1+5 -> 5, 1, 4, 3, 2 -> 4+1=5, 1+5=6, 3+4=7, 2+3=5)"
   ]
  },
  {
   "cell_type": "markdown",
   "metadata": {},
   "source": [
    "### 实例2：总和不小于S的最小子数组（动态窗口大小）\n",
    "\n",
    "**问题**：给定一个正整数数组 `arr` 和一个正整数 `S`，找到一个连续子数组，使其元素总和不小于 `S`，并返回该子数组的最小可能长度。如果不存在这样的子数组，则返回 0。\n",
    "\n",
    "这个问题中，窗口的大小是可变的。"
   ]
  },
  {
   "cell_type": "code",
   "execution_count": 2,
   "metadata": {},
   "outputs": [
    {
     "name": "stdout",
     "output_type": "stream",
     "text": [
      "数组 [2, 1, 5, 2, 3, 2] 中总和不小于 7 的最小子数组长度是: 2\n",
      "数组 [2, 1, 5, 2, 8] 中总和不小于 7 的最小子数组长度是: 1\n"
     ]
    }
   ],
   "source": [
    "import math\n",
    "\n",
    "def min_size_subarray_sum(arr, S):\n",
    "    min_length = math.inf\n",
    "    window_sum = 0\n",
    "    left = 0\n",
    "\n",
    "    for right in range(len(arr)):\n",
    "        window_sum += arr[right]\n",
    "\n",
    "        # 当窗口总和不小于 S 时，尝试收缩窗口\n",
    "        while window_sum >= S:\n",
    "            # 更新最小长度\n",
    "            min_length = min(min_length, right - left + 1)\n",
    "            \n",
    "            # 从左边移出元素并移动 left 指针\n",
    "            window_sum -= arr[left]\n",
    "            left += 1\n",
    "            \n",
    "    if min_length == math.inf:\n",
    "        return 0\n",
    "    return min_length\n",
    "\n",
    "# 测试\n",
    "arr3 = [2, 1, 5, 2, 3, 2]\n",
    "S3 = 7\n",
    "print(f\"数组 {arr3} 中总和不小于 {S3} 的最小子数组长度是: {min_size_subarray_sum(arr3, S3)}\") # 预期输出: 2 (5+2)\n",
    "\n",
    "arr4 = [2, 1, 5, 2, 8]\n",
    "S4 = 7\n",
    "print(f\"数组 {arr4} 中总和不小于 {S4} 的最小子数组长度是: {min_size_subarray_sum(arr4, S4)}\") # 预期输出: 1 (8)"
   ]
  },
  {
   "cell_type": "markdown",
   "metadata": {},
   "source": [
    "### 实例3：含K个不同字符的最长子串（动态窗口 + 哈希表）\n",
    "\n",
    "**问题**：给定一个字符串 `s` 和一个整数 `k`，找到包含不超过 `k` 个不同字符的最长子串的长度。\n",
    "\n",
    "这个问题需要一个辅助数据结构（哈希表）来跟踪窗口内不同字符的数量。"
   ]
  },
  {
   "cell_type": "code",
   "execution_count": 3,
   "metadata": {},
   "outputs": [
    {
     "name": "stdout",
     "output_type": "stream",
     "text": [
      "字符串 \"araaci\" 中含不超过 2 个不同字符的最长子串长度是: 4\n",
      "字符串 \"cbbebi\" 中含不超过 3 个不同字符的最长子串长度是: 5\n"
     ]
    }
   ],
   "source": [
    "def longest_substring_with_k_distinct(s, k):\n",
    "    max_length = 0\n",
    "    char_frequency = {}\n",
    "    left = 0\n",
    "\n",
    "    for right in range(len(s)):\n",
    "        right_char = s[right]\n",
    "        char_frequency[right_char] = char_frequency.get(right_char, 0) + 1\n",
    "\n",
    "        # 当不同字符的数量超过 k 时，收缩窗口\n",
    "        while len(char_frequency) > k:\n",
    "            left_char = s[left]\n",
    "            char_frequency[left_char] -= 1\n",
    "            if char_frequency[left_char] == 0:\n",
    "                del char_frequency[left_char]\n",
    "            left += 1\n",
    "        \n",
    "        # 更新最大长度\n",
    "        max_length = max(max_length, right - left + 1)\n",
    "        \n",
    "    return max_length\n",
    "\n",
    "# 测试\n",
    "s1 = \"araaci\"\n",
    "k1 = 2\n",
    "print(f'字符串 \"{s1}\" 中含不超过 {k1} 个不同字符的最长子串长度是: {longest_substring_with_k_distinct(s1, k1)}') # 预期输出: 4 (\"araa\")\n",
    "\n",
    "s2 = \"cbbebi\"\n",
    "k2 = 3\n",
    "print(f'字符串 \"{s2}\" 中含不超过 {k2} 个不同字符的最长子串长度是: {longest_substring_with_k_distinct(s2, k2)}') # 预期输出: 5 (\"bbebi\")"
   ]
  },
  {
   "cell_type": "markdown",
   "metadata": {},
   "source": [
    "## 5. 总结\n",
    "\n",
    "**何时使用滑动窗口？**\n",
    "\n",
    "当你遇到需要在**连续的子数组或子串**上寻找满足某些条件的最优解（如最大值、最小值、最长、最短）时，就应该首先考虑滑动窗口技术。\n",
    "\n",
    "**关键优势：**\n",
    "\n",
    "- **高效**：将时间复杂度从 O(n²) 或更高降低到 O(n)。\n",
    "- **简洁**：代码结构清晰，易于理解和实现。"
   ]
  }
 ],
 "metadata": {
  "kernelspec": {
   "display_name": ".venv",
   "language": "python",
   "name": "python3"
  },
  "language_info": {
   "codemirror_mode": {
    "name": "ipython",
    "version": 3
   },
   "file_extension": ".py",
   "mimetype": "text/x-python",
   "name": "python",
   "nbconvert_exporter": "python",
   "pygments_lexer": "ipython3",
   "version": "3.12.9"
  }
 },
 "nbformat": 4,
 "nbformat_minor": 4
}

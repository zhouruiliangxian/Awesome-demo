{
 "cells": [
  {
   "cell_type": "code",
   "execution_count": 1,
   "id": "c28a11f8",
   "metadata": {},
   "outputs": [],
   "source": [
    "import contextvars\n",
    "import time\n",
    "from typing import Any, Optional, Dict, List, Union\n",
    "from dataclasses import dataclass, field"
   ]
  },
  {
   "cell_type": "code",
   "execution_count": 2,
   "id": "56f14df2",
   "metadata": {},
   "outputs": [],
   "source": [
    "# 定义两个上下文变量，存储当前 Span 和 Trace\n",
    "_current_span: contextvars.ContextVar[Optional[\"Span\"]] = contextvars.ContextVar(\n",
    "    \"current_span\", default=None\n",
    ")\n",
    "\n",
    "_current_trace: contextvars.ContextVar[Optional[\"Trace\"]] = contextvars.ContextVar(\n",
    "    \"current_trace\", default=None\n",
    ")"
   ]
  },
  {
   "cell_type": "code",
   "execution_count": 3,
   "id": "a406bed0",
   "metadata": {},
   "outputs": [],
   "source": [
    "@dataclass\n",
    "class SpanContext:\n",
    "    \"\"\"Span 的上下文信息（用于跨进程传递）\"\"\"\n",
    "    trace_id: str\n",
    "    span_id: str\n",
    "    is_remote: bool = False"
   ]
  },
  {
   "cell_type": "code",
   "execution_count": 4,
   "id": "3af96cc6",
   "metadata": {},
   "outputs": [],
   "source": [
    "@dataclass\n",
    "class Span:\n",
    "    \"\"\"表示一个操作的时间段追踪\"\"\"\n",
    "    name: str\n",
    "    context: SpanContext\n",
    "    parent: Optional[\"Span\"] = None\n",
    "    start_time: float = field(default_factory=time.time)\n",
    "    end_time: Optional[float] = None\n",
    "    attributes: Dict[str, Any] = field(default_factory=dict)\n",
    "    events: List[Dict[str, Any]] = field(default_factory=list)\n",
    "    status: str = \"UNSET\"\n",
    "\n",
    "    def end(self, status: str = \"OK\") -> None:\n",
    "        \"\"\"结束 Span 并记录状态\"\"\"\n",
    "        self.end_time = time.time()\n",
    "        self.status = status\n",
    "\n",
    "    def add_event(self, name: str, attributes: Optional[Dict[str, Any]] = None) -> None:\n",
    "        \"\"\"添加事件到 Span\"\"\"\n",
    "        self.events.append({\n",
    "            \"name\": name,\n",
    "            \"timestamp\": time.time(),\n",
    "            \"attributes\": attributes or {}\n",
    "        })\n",
    "\n",
    "    def __enter__(self) -> \"Span\":\n",
    "        \"\"\"支持 with 语句\"\"\"\n",
    "        return self\n",
    "\n",
    "    def __exit__(self, exc_type, exc_val, exc_tb) -> None:\n",
    "        \"\"\"自动结束 Span\"\"\"\n",
    "        self.end(\"ERROR\" if exc_type else \"OK\")"
   ]
  },
  {
   "cell_type": "code",
   "execution_count": 5,
   "id": "96eec40b",
   "metadata": {},
   "outputs": [],
   "source": [
    "@dataclass\n",
    "class Trace:\n",
    "    \"\"\"完整的追踪链\"\"\"\n",
    "    root_span: Span\n",
    "    spans: List[Span] = field(default_factory=list)\n",
    "\n",
    "    def add_span(self, span: Span) -> None:\n",
    "        \"\"\"添加 Span 到 Trace\"\"\"\n",
    "        self.spans.append(span)"
   ]
  },
  {
   "cell_type": "code",
   "execution_count": 6,
   "id": "5ef365bd",
   "metadata": {},
   "outputs": [],
   "source": [
    "def generate_id() -> str:\n",
    "    \"\"\"生成追踪ID（简化版）\"\"\"\n",
    "    return f\"id-{int(time.time() * 1000)}\"\n",
    "\n",
    "def get_current_span() -> Optional[Span]:\n",
    "    \"\"\"获取当前 Span\"\"\"\n",
    "    return _current_span.get()\n",
    "\n",
    "def get_current_trace() -> Optional[Trace]:\n",
    "    \"\"\"获取当前 Trace\"\"\"\n",
    "    return _current_trace.get()"
   ]
  },
  {
   "cell_type": "code",
   "execution_count": 7,
   "id": "ad997d6e",
   "metadata": {},
   "outputs": [],
   "source": [
    "def start_span(name: str, attributes: Optional[Dict[str, Any]] = None) -> Span:\n",
    "    \"\"\"\n",
    "    创建并激活一个新 Span\n",
    "    :param name: Span 名称\n",
    "    :param attributes: 附加属性\n",
    "    :return: 新创建的 Span\n",
    "    \"\"\"\n",
    "    parent = get_current_span()\n",
    "    context = SpanContext(\n",
    "        trace_id=parent.context.trace_id if parent else generate_id(),\n",
    "        span_id=generate_id()\n",
    "    )\n",
    "\n",
    "    span = Span(name=name, context=context, parent=parent)\n",
    "    if attributes:\n",
    "        span.attributes.update(attributes)\n",
    "\n",
    "    # 设置当前 Span\n",
    "    _current_span.set(span)\n",
    "\n",
    "    # 如果是根 Span，则创建 Trace\n",
    "    if parent is None:\n",
    "        trace = Trace(root_span=span)\n",
    "        _current_trace.set(trace)\n",
    "    else:\n",
    "        trace = get_current_trace()\n",
    "    \n",
    "    if trace:\n",
    "        trace.add_span(span)\n",
    "\n",
    "    return span\n",
    "\n",
    "def end_span(status: str = \"OK\") -> None:\n",
    "    \"\"\"结束当前 Span 并返回父 Span\"\"\"\n",
    "    current = get_current_span()\n",
    "    if current:\n",
    "        current.end(status)\n",
    "        _current_span.set(current.parent)"
   ]
  },
  {
   "cell_type": "code",
   "execution_count": 8,
   "id": "e22e42dd",
   "metadata": {},
   "outputs": [],
   "source": [
    "class ConsoleExporter:\n",
    "    \"\"\"将追踪数据打印到控制台\"\"\"\n",
    "    @staticmethod\n",
    "    def export(trace: Trace) -> None:\n",
    "        print(\"\\n=== Exporting Trace ===\")\n",
    "        print(f\"Trace ID: {trace.root_span.context.trace_id}\")\n",
    "        for span in trace.spans:\n",
    "            duration = (span.end_time or time.time()) - span.start_time\n",
    "            print(f\"Span: {span.name} ({duration:.3f}s), Status: {span.status}\")"
   ]
  },
  {
   "cell_type": "code",
   "execution_count": 9,
   "id": "e4e69f30",
   "metadata": {},
   "outputs": [
    {
     "name": "stdout",
     "output_type": "stream",
     "text": [
      "\n",
      "=== Exporting Trace ===\n",
      "Trace ID: id-1751643441896\n",
      "Span: main_operation (0.152s), Status: OK\n",
      "Span: child_operation (0.101s), Status: OK\n",
      "Span: manual_span (0.050s), Status: OK\n"
     ]
    }
   ],
   "source": [
    "# 示例 1: 同步代码\n",
    "with start_span(\"main_operation\", {\"type\": \"sync\"}):\n",
    "    # 当前 Span 是 \"main_operation\"\n",
    "    with start_span(\"child_operation\"):\n",
    "        # 当前 Span 是 \"child_operation\"\n",
    "        get_current_span().add_event(\"processing_start\")\n",
    "        time.sleep(0.1)\n",
    "        get_current_span().add_event(\"processing_end\")\n",
    "    \n",
    "    # 手动创建 Span\n",
    "    span = start_span(\"manual_span\")\n",
    "    time.sleep(0.05)\n",
    "    span.end()\n",
    "\n",
    "# 导出追踪数据\n",
    "if trace := get_current_trace():\n",
    "    ConsoleExporter.export(trace)"
   ]
  }
 ],
 "metadata": {
  "kernelspec": {
   "display_name": ".venv",
   "language": "python",
   "name": "python3"
  },
  "language_info": {
   "codemirror_mode": {
    "name": "ipython",
    "version": 3
   },
   "file_extension": ".py",
   "mimetype": "text/x-python",
   "name": "python",
   "nbconvert_exporter": "python",
   "pygments_lexer": "ipython3",
   "version": "3.12.3"
  }
 },
 "nbformat": 4,
 "nbformat_minor": 5
}

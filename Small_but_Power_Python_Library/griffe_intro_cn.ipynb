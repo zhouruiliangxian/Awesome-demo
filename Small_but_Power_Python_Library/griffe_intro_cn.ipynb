{
 "cells": [
  {
   "cell_type": "markdown",
   "metadata": {},
   "source": [
    "# Griffe 入门教程\n",
    "\n",
    "`griffe` 是一个强大的 Python 库，用于从源代码中静态地提取文档字符串、类型注解、函数签名等信息。它对于自动化生成 API 文档、代码分析和静态检查非常有用。\n",
    "\n",
    "这个 Notebook 将带你了解 `griffe` 的基本用法。\n",
    "\n",
    "首先，我们需要安装 `griffe`："
   ]
  },
  {
   "cell_type": "code",
   "execution_count": null,
   "metadata": {},
   "outputs": [],
   "source": [
    "!pip install griffe"
   ]
  },
  {
   "cell_type": "markdown",
   "metadata": {},
   "source": [
    "### 1. 加载一个模块\n",
    "\n",
    "`griffe` 的核心功能是加载一个模块并将其代码结构解析为一个可供程序访问的对象。我们使用 `griffe.loader.load` 函数来完成这个任务。\n",
    "\n",
    "我们将加载与此 Notebook 位于同一目录下的 `my_module.py` 文件。"
   ]
  },
  {
   "cell_type": "code",
   "execution_count": 9,
   "metadata": {},
   "outputs": [],
   "source": [
    "import griffe\n",
    "\n",
    "# 加载我们创建的 my_module.py 模块\n",
    "module_data = griffe.load(\"my_module\")"
   ]
  },
  {
   "cell_type": "markdown",
   "metadata": {},
   "source": [
    "### 2. 探索模块对象\n",
    "\n",
    "加载成功后，`module_data` 就成了一个代表 `my_module` 的 `Module` 对象。我们可以通过它访问模块的所有信息。"
   ]
  },
  {
   "cell_type": "code",
   "execution_count": 10,
   "metadata": {},
   "outputs": [
    {
     "name": "stdout",
     "output_type": "stream",
     "text": [
      "模块名称: my_module\n",
      "模块路径: D:\\Awesome-demo\\Small_but_Power_Python_Library\\my_module.py\n",
      "模块文档字符串:\n",
      "This is a sample module demonstrating various Python elements.\n"
     ]
    }
   ],
   "source": [
    "print(f\"模块名称: {module_data.name}\")\n",
    "print(f\"模块路径: {module_data.filepath}\")\n",
    "print(\"模块文档字符串:\")\n",
    "print(module_data.docstring.value)"
   ]
  },
  {
   "cell_type": "markdown",
   "metadata": {},
   "source": [
    "### 3. 访问模块成员\n",
    "\n",
    "`Module` 对象有一个 `members` 属性，它是一个字典，包含了模块中定义的所有成员（类、函数等）。"
   ]
  },
  {
   "cell_type": "code",
   "execution_count": 11,
   "metadata": {},
   "outputs": [
    {
     "name": "stdout",
     "output_type": "stream",
     "text": [
      "模块成员:\n",
      "- MODULE_VERSION (类型: attribute)\n",
      "- greet (类型: function)\n",
      "- Person (类型: class)\n",
      "- _private_function (类型: function)\n",
      "- _PrivateClass (类型: class)\n"
     ]
    }
   ],
   "source": [
    "print(\"模块成员:\")\n",
    "for member_name, member_object in module_data.members.items():\n",
    "    print(f\"- {member_name} (类型: {member_object.kind.value})\")"
   ]
  },
  {
   "cell_type": "markdown",
   "metadata": {},
   "source": [
    "你会注意到，`_private_function` 这个以下划线开头的“私有”函数也被加载了。`griffe` 默认会加载所有成员。我们可以稍后看到如何过滤它们。\n",
    "\n",
    "### 4. 深入了解函数对象\n",
    "\n",
    "我们可以从 `members` 字典中获取一个特定的函数对象，并检查它的详细信息，比如参数和返回类型。"
   ]
  },
  {
   "cell_type": "code",
   "execution_count": null,
   "metadata": {},
   "outputs": [
    {
     "name": "stdout",
     "output_type": "stream",
     "text": [
      "函数名称: greet\n",
      "文档字符串:\n",
      "Greet the given name.\n",
      "\n",
      "Args:\n",
      "    name: The name to greet.\n",
      "    \n",
      "Returns:\n",
      "    A greeting message.\n",
      "参数详情:\n",
      "- 名称: name, 注解: str, 默认值: None\n",
      "返回类型注解: str\n"
     ]
    }
   ],
   "source": [
    "simple_func = module_data[\"greet\"]\n",
    "\n",
    "print(f\"函数名称: {simple_func.name}\")\n",
    "print(\"文档字符串:\")\n",
    "print(simple_func.docstring.value)\n",
    "\n",
    "print(\"参数详情:\")\n",
    "for param in simple_func.parameters:\n",
    "    print(f\"- 名称: {param.name}, 注解: {param.annotation}, 默认值: {param.default}\")\n",
    "\n",
    "print(f\"返回类型注解: {simple_func.returns}\")"
   ]
  },
  {
   "cell_type": "markdown",
   "metadata": {},
   "source": [
    "### 5. 深入了解类对象\n",
    "\n",
    "同样，我们也可以检查类及其成员。"
   ]
  },
  {
   "cell_type": "code",
   "execution_count": 16,
   "metadata": {},
   "outputs": [
    {
     "name": "stdout",
     "output_type": "stream",
     "text": [
      "类的名称: Person\n",
      "类的文档字符串:\n",
      "A class representing a person.\n",
      "类的成员:\n",
      "- 方法: __init__\n",
      "- 方法: introduce\n"
     ]
    }
   ],
   "source": [
    "my_class = module_data[\"Person\"]\n",
    "\n",
    "print(f\"类的名称: {my_class.name}\")\n",
    "print(\"类的文档字符串:\")\n",
    "print(my_class.docstring.value)\n",
    "\n",
    "print(\"类的成员:\")\n",
    "for member_name, member_object in my_class.members.items():\n",
    "    # 我们只关心方法，可以过滤掉属性等其他成员\n",
    "    if member_object.kind.value == 'function':\n",
    "        print(f\"- 方法: {member_name}\")"
   ]
  },
  {
   "cell_type": "markdown",
   "metadata": {},
   "source": [
    "### 6. 过滤成员\n",
    "\n",
    "在实际应用中，我们通常不希望文档包含私有成员（如 `_internal_function`）。`griffe` 允许我们在加载时提供搜索路径和过滤选项。\n",
    "\n",
    "例如，我们可以通过 `docstring_filters` 过滤掉所有包含 `\"internal\"` 字符串的文档字符串，或者通过 `member_filters` 按名称过滤。"
   ]
  },
  {
   "cell_type": "code",
   "execution_count": null,
   "metadata": {},
   "outputs": [
    {
     "name": "stdout",
     "output_type": "stream",
     "text": [
      "过滤后的公共成员:\n",
      "- MODULE_VERSION\n",
      "- greet\n",
      "- Person\n"
     ]
    }
   ],
   "source": [
    "import griffe\n",
    "\n",
    "# 加载我们创建的 my_module.py 模块\n",
    "module_data_filtered = griffe.load(\"my_module\")\n",
    "\n",
    "# 默认情况下，Griffe 会自动排除私有成员\n",
    "public_members = [m for m in module_data_filtered.members if not m.startswith('_')]\n",
    "\n",
    "print(\"过滤后的公共成员:\")\n",
    "for member_name in public_members:\n",
    "    print(f\"- {member_name}\")"
   ]
  },
  {
   "cell_type": "markdown",
   "metadata": {},
   "source": [
    "### 总结\n",
    "\n",
    "`griffe` 是一个非常强大的工具，它让以编程方式访问 Python 代码的结构和文档变得简单。\n",
    "\n",
    "主要优点包括：\n",
    "- **静态分析**：无需执行代码即可获取信息，安全可靠。\n",
    "- **信息全面**：可以获取函数签名、类型注解、文档字符串（并能解析）、装饰器等。\n",
    "- **可扩展性**：支持自定义加载器和过滤器，以满足特定需求。\n",
    "\n",
    "它是 `mkdocs-material` 的 `mkdocstrings` 插件的后端，是现代 Python 文档生成工具链中的关键一环。"
   ]
  }
 ],
 "metadata": {
  "kernelspec": {
   "display_name": ".venv",
   "language": "python",
   "name": "python3"
  },
  "language_info": {
   "codemirror_mode": {
    "name": "ipython",
    "version": 3
   },
   "file_extension": ".py",
   "mimetype": "text/x-python",
   "name": "python",
   "nbconvert_exporter": "python",
   "pygments_lexer": "ipython3",
   "version": "3.12.3"
  }
 },
 "nbformat": 4,
 "nbformat_minor": 2
}
